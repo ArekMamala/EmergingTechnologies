{
 "cells": [
  {
   "cell_type": "markdown",
   "metadata": {},
   "source": [
    "    # Arkadiusz Mamala - G00349088  Emerging Technologies Assigment"
   ]
  },
  {
   "cell_type": "markdown",
   "metadata": {},
   "source": [
    "### Reasearch\n",
    "    \n",
    "    \n"
   ]
  },
  {
   "cell_type": "markdown",
   "metadata": {},
   "source": [
    "#### Database that i have decided to used in this project is The Mist Database it has a training set of 60,000 and a test set of 10,000 which should be enough for me to train my web application to recognize drawing pathers of hand written didgits.\n",
    "\n",
    "\n"
   ]
  },
  {
   "cell_type": "markdown",
   "metadata": {},
   "source": [
    "The software that i have decided to use in this project is PyCharm while in it having Keras, Tensorflow, PyPlot....\n"
   ]
  },
  {
   "cell_type": "markdown",
   "metadata": {},
   "source": [
    "#  Neural network"
   ]
  },
  {
   "cell_type": "markdown",
   "metadata": {},
   "source": [
    "##### A Neural Network\n"
   ]
  },
  {
   "cell_type": "markdown",
   "metadata": {},
   "source": [
    "A Neural Network is a computer program that mimics the brains functions.An easy-to-understand introduction to neural networks: how can a computer learn to recognize patterns and make decisions like a human."
   ]
  },
  {
   "cell_type": "markdown",
   "metadata": {},
   "source": [
    "![image.png](https://encrypted-tbn0.gstatic.com/images?q=tbn:ANd9GcSAktPl6HWwjoFaLyjzIpDE2wfV4FfMz8IzFsYn8a8Id-nN0skK&s)\n",
    "\n",
    "![image.png](https://www.codingdojo.com/blog/wp-content/uploads/What-is-artificial-neural-network.png)"
   ]
  },
  {
   "cell_type": "markdown",
   "metadata": {},
   "source": [
    "Neural networks can usually be read from left to right. Here, the first layer is the layer in which inputs are entered. There are internals layers (called hidden layers) that do some math, and one last l\n",
    "ayer that contains all the possible outputs."
   ]
  },
  {
   "cell_type": "markdown",
   "metadata": {},
   "source": [
    "#### Imports\n",
    "* matplotlib.pyplot as plt is needed for displaying images/n\n",
    "* numpy as np is needed for our image arrays \n",
    "* tenserflow is needed for keras and the model "
   ]
  },
  {
   "cell_type": "code",
   "execution_count": 1,
   "metadata": {},
   "outputs": [],
   "source": [
    "import matplotlib.pyplot as plt\n",
    "import numpy as np\n",
    "import tensorflow as tf\n",
    "\n",
    "#https://stackoverflow.com/a/50467697\n",
    "#for graph error\n",
    "graph = tf.get_default_graph()"
   ]
  },
  {
   "cell_type": "markdown",
   "metadata": {},
   "source": [
    "#### Reading in the minst\n",
    "* We need this database to train the model and to test the model \n",
    "* It consists of 60000 training images and 10000 testing images \n"
   ]
  },
  {
   "cell_type": "code",
   "execution_count": 2,
   "metadata": {},
   "outputs": [],
   "source": [
    "#Reading in the database for images to test \n",
    "mnist = tf.keras.datasets.mnist  \n",
    "# 28x 28 image of hand written didgits 0-9"
   ]
  },
  {
   "cell_type": "markdown",
   "metadata": {},
   "source": [
    "* Deviding the data into two sets the train set and the test set\n",
    "* reshaping the images to 784 which is the rows by cols 28x28 =784  \n",
    "* casting both arrays to float 32\n",
    "* then deviding by 255 so comes out as 1s or 0s as its easier to read for machine\n"
   ]
  },
  {
   "cell_type": "code",
   "execution_count": 3,
   "metadata": {},
   "outputs": [],
   "source": [
    "# This Load_data() method returns both the training and testing sets\n",
    "(x_train, y_train), (x_test, y_test) = mnist.load_data()\n",
    "\n",
    "#reshaping the images 28X28= 784\n",
    "x_train = x_train.reshape(60000, 784)\n",
    "x_test = x_test.reshape(10000, 784)\n",
    "\n",
    "x_train = x_train.astype('float32')\n",
    "x_test = x_test.astype('float32')\n",
    "\n",
    "x_train = x_train/255\n",
    "x_test = x_test/255"
   ]
  },
  {
   "cell_type": "markdown",
   "metadata": {},
   "source": [
    "* Printing out to the screen the shape of both the x_test and x_train Which is 28 x 28 = 784\n",
    "* printing y_train of the first 10 values for verification"
   ]
  },
  {
   "cell_type": "code",
   "execution_count": 4,
   "metadata": {},
   "outputs": [
    {
     "name": "stdout",
     "output_type": "stream",
     "text": [
      "(60000, 784)\n",
      "(10000, 784)\n",
      "[5 0 4 1 9 2 1 3 1 4]\n"
     ]
    }
   ],
   "source": [
    "# the shame of the images\n",
    "print(x_train.shape)\n",
    "print(x_test.shape)\n",
    "# Each image has the dimensions 28 x 28:\n",
    "\n",
    "# The y_train of the first 10 values\n",
    "print(y_train[:9 + 1])"
   ]
  },
  {
   "cell_type": "markdown",
   "metadata": {},
   "source": [
    "### Models\n",
    "* Sequential - The Sequential model is a linear stack of layers.\n",
    "* We create Sequential model because its much more flexible and you create layer after layer.\n",
    "* It also doesnt allow you to to share layers or have multiple imputs or outputs.\n",
    "\n"
   ]
  },
  {
   "cell_type": "code",
   "execution_count": 5,
   "metadata": {},
   "outputs": [],
   "source": [
    "# creating a new sequential model\n",
    "model = tf.keras.models.Sequential()"
   ]
  },
  {
   "cell_type": "markdown",
   "metadata": {},
   "source": [
    "### Adding layers\n",
    "* Adding four layers \n",
    "* Using the dense layer type \n",
    "* We have 784 nodes in each input layer\n",
    "* Activation - An activation function allows models to take into account nonlinear relationships\n",
    "* Activation is set to \"relu\"\n",
    "* Relu (Rectified Linear Activation) is a piecewise linear function that will output the input directly if is positive, otherwise, it will output zero\n",
    "* Drop out layer to avoid overfitting of model"
   ]
  },
  {
   "cell_type": "code",
   "execution_count": 6,
   "metadata": {},
   "outputs": [
    {
     "name": "stdout",
     "output_type": "stream",
     "text": [
      "WARNING:tensorflow:From C:\\ProgramData\\Anaconda3\\lib\\site-packages\\tensorflow_core\\python\\ops\\resource_variable_ops.py:1630: calling BaseResourceVariable.__init__ (from tensorflow.python.ops.resource_variable_ops) with constraint is deprecated and will be removed in a future version.\n",
      "Instructions for updating:\n",
      "If using Keras pass *_constraint arguments to layers.\n"
     ]
    }
   ],
   "source": [
    "\n",
    "#adding layers to our model \n",
    "model.add(tf.keras.layers.Dense(784, activation='relu',input_shape=(784,))) # Use input_shape=(28,28) for unflattened data.\n",
    "model.add(tf.keras.layers.Dense(784, activation='relu'))\n",
    "\n",
    "# Dropout layer exists to avoid overfitting of model\n",
    "model.add(tf.keras.layers.Dropout(0.2))\n",
    "\n",
    "# 10 nuerons in the final layer to coincide with the 10 digits in the MNIST dataset\n",
    "# softmax maps output to a [0,1] range, it is for probability distribution\n",
    "model.add(tf.keras.layers.Dense(10, activation='softmax'))"
   ]
  },
  {
   "cell_type": "markdown",
   "metadata": {},
   "source": [
    "### Compiling the Model\n",
    "#### Optimiser\n",
    "* Our optimiser is set to 'adam' this controls the learning rate\n",
    "* This optimizer adjusts the learning rate through training \n",
    "#### Loss \n",
    "* Our loss is set to 'sparse_categorical_crossentropy'\n",
    "* We use this one because we are dealing with integers\n",
    "#### metrics \n",
    "* We set our metrics to 'accuracy'"
   ]
  },
  {
   "cell_type": "code",
   "execution_count": 7,
   "metadata": {},
   "outputs": [],
   "source": [
    "# sparse_categorical_crossentropy loss needed in case we have an integer-dependent variable\n",
    "#using the adam optimizer\n",
    "model.compile(optimizer='adam', loss='sparse_categorical_crossentropy', metrics=['accuracy'])"
   ]
  },
  {
   "cell_type": "markdown",
   "metadata": {},
   "source": [
    "### Training the model\n",
    "* We are training the model using the fit method \n",
    "* batch_size is the amount that will be tested\n",
    "* epochs is set to 3 therefore this will be carried out 3 times\n",
    "*"
   ]
  },
  {
   "cell_type": "code",
   "execution_count": 9,
   "metadata": {},
   "outputs": [
    {
     "name": "stdout",
     "output_type": "stream",
     "text": [
      "Train on 60000 samples, validate on 10000 samples\n",
      "Epoch 1/2\n",
      "60000/60000 [==============================] - 81s 1ms/sample - loss: 0.0844 - acc: 0.9760 - val_loss: 0.1019 - val_acc: 0.9739\n",
      "Epoch 2/2\n",
      "60000/60000 [==============================] - 106s 2ms/sample - loss: 0.0708 - acc: 0.9797 - val_loss: 0.1046 - val_acc: 0.9755\n"
     ]
    }
   ],
   "source": [
    "# Train the model using the .fit() method\n",
    "# Epoch is the amout of time it goes throug this\n",
    "his = model.fit(x_train, y_train, batch_size=10, epochs=2, verbose=1,\n",
    "          validation_data=(x_test, y_test))\n",
    "\n"
   ]
  },
  {
   "cell_type": "markdown",
   "metadata": {},
   "source": [
    "#### Loss and Accuracy\n",
    "* Here we are printing out to the screen the loss of the model and the accuracy from training it\n",
    "* Mode summary is also printed out here showing the layers, shape and Param"
   ]
  },
  {
   "cell_type": "code",
   "execution_count": 10,
   "metadata": {},
   "outputs": [
    {
     "name": "stdout",
     "output_type": "stream",
     "text": [
      "Test loss: 0.1046233136652556\n",
      "Test accuracy: 0.9755\n",
      "Model: \"sequential\"\n",
      "_________________________________________________________________\n",
      "Layer (type)                 Output Shape              Param #   \n",
      "=================================================================\n",
      "dense (Dense)                (None, 784)               615440    \n",
      "_________________________________________________________________\n",
      "dense_1 (Dense)              (None, 784)               615440    \n",
      "_________________________________________________________________\n",
      "dropout (Dropout)            (None, 784)               0         \n",
      "_________________________________________________________________\n",
      "dense_2 (Dense)              (None, 10)                7850      \n",
      "=================================================================\n",
      "Total params: 1,238,730\n",
      "Trainable params: 1,238,730\n",
      "Non-trainable params: 0\n",
      "_________________________________________________________________\n"
     ]
    }
   ],
   "source": [
    "#showing the loss and accuracy\n",
    "evaluation = model.evaluate(x_test, y_test, verbose=0)\n",
    "print('Test loss:', evaluation[0])\n",
    "print('Test accuracy:', evaluation[1])\n",
    "model.summary()"
   ]
  },
  {
   "cell_type": "markdown",
   "metadata": {},
   "source": [
    "Here we are plotting the loss and accuracy out to the user to see using plt "
   ]
  },
  {
   "cell_type": "markdown",
   "metadata": {},
   "source": [
    "####Saving\n",
    "* model is saved as AreksModel.h5\n",
    "* saved as h5 file because its designed to store and organize large amounts of data\n",
    "* loding in the model then as a 'new_model'\n",
    "* predicting x_test\n",
    "* printing it out after"
   ]
  },
  {
   "cell_type": "code",
   "execution_count": 11,
   "metadata": {},
   "outputs": [
    {
     "name": "stdout",
     "output_type": "stream",
     "text": [
      "WARNING:tensorflow:From C:\\ProgramData\\Anaconda3\\lib\\site-packages\\tensorflow_core\\python\\ops\\init_ops.py:97: calling GlorotUniform.__init__ (from tensorflow.python.ops.init_ops) with dtype is deprecated and will be removed in a future version.\n",
      "Instructions for updating:\n",
      "Call initializer instance with the dtype argument instead of passing it to the constructor\n",
      "WARNING:tensorflow:From C:\\ProgramData\\Anaconda3\\lib\\site-packages\\tensorflow_core\\python\\ops\\init_ops.py:97: calling Zeros.__init__ (from tensorflow.python.ops.init_ops) with dtype is deprecated and will be removed in a future version.\n",
      "Instructions for updating:\n",
      "Call initializer instance with the dtype argument instead of passing it to the constructor\n"
     ]
    }
   ],
   "source": [
    "# Saving the Model as AreksModel.model\n",
    "model.save('AreksModel.h5')\n",
    "# Loading the saved model\n",
    "# Save it in a variable new_model\n",
    "new_model = tf.keras.models.load_model('AreksModel.h5')\n"
   ]
  },
  {
   "cell_type": "markdown",
   "metadata": {},
   "source": [
    "#### Information\n",
    "* printing out the length of x_test values and the shape for validation of x_test and x_test[0] \n"
   ]
  },
  {
   "cell_type": "code",
   "execution_count": 12,
   "metadata": {},
   "outputs": [
    {
     "name": "stdout",
     "output_type": "stream",
     "text": [
      "xtest Lenght =  10000\n",
      "xtest Lenght of [0] =  784\n",
      "Image shape: (10000, 784)\n",
      "Image shape: 10000\n"
     ]
    }
   ],
   "source": [
    "#checking the length of x_test\n",
    "print(f\"xtest Lenght =  { len(x_test) }\")\n",
    "#checking the length of x_test [0]\n",
    "print(f\"xtest Lenght of [0] =  { len(x_test[0]) }\")\n",
    "# the test image shape\n",
    "print(f'Image shape: {x_test.shape}')\n",
    "# the test image shape value\n",
    "print(f'Image shape: {x_test.shape[0]}')"
   ]
  },
  {
   "cell_type": "markdown",
   "metadata": {},
   "source": [
    "#### Testing the model\n",
    "* first printing out the image selected for the test\n",
    "* Returns normalized output for each digit and also uses argmax to return the actual prediction\n",
    "\n"
   ]
  },
  {
   "cell_type": "code",
   "execution_count": 13,
   "metadata": {},
   "outputs": [
    {
     "data": {
      "image/png": "[encoded data removed]",
      "text/plain": [
       "<Figure size 432x288 with 1 Axes>"
      ]
     },
     "metadata": {
      "needs_background": "light"
     },
     "output_type": "display_data"
    },
    {
     "name": "stdout",
     "output_type": "stream",
     "text": [
      "7\n"
     ]
    }
   ],
   "source": [
    "plt.imshow(x_test[0].reshape(28, 28), cmap=\"gray\")\n",
    "plt.show()\n",
    "\n",
    "# Returns normalized output for each digit and also uses argmax to return the actual prediction\n",
    "# print(loadedModel.predict(test_img[77:78])\n",
    "np.argmax(new_model.predict(x_test[0:1]))\n",
    "print(np.argmax(new_model.predict(x_test[0:1])))\n"
   ]
  },
  {
   "cell_type": "markdown",
   "metadata": {},
   "source": [
    "#### Testing the model\n",
    "* first printing out the image selected for the test\n",
    "* Returns normalized output for each digit and also uses argmax to return the actual prediction\n"
   ]
  },
  {
   "cell_type": "code",
   "execution_count": 14,
   "metadata": {},
   "outputs": [
    {
     "data": {
      "image/png": "[encoded data removed]",
      "text/plain": [
       "<Figure size 432x288 with 1 Axes>"
      ]
     },
     "metadata": {
      "needs_background": "light"
     },
     "output_type": "display_data"
    },
    {
     "name": "stdout",
     "output_type": "stream",
     "text": [
      "2\n"
     ]
    }
   ],
   "source": [
    "plt.imshow(x_test[1].reshape(28, 28), cmap=\"gray\")\n",
    "plt.show()\n",
    "\n",
    "# Returns normalized output for each digit and also uses argmax to return the actual prediction\n",
    "# print(loadedModel.predict(test_img[77:78])\n",
    "np.argmax(new_model.predict(x_test[1:2]))\n",
    "print(np.argmax(new_model.predict(x_test[1:2])))\n"
   ]
  },
  {
   "cell_type": "markdown",
   "metadata": {},
   "source": [
    "#### Testing the model\n",
    "* first printing out the image selected for the test\n",
    "* Returns normalized output for each digit and also uses argmax to return the actual prediction\n"
   ]
  },
  {
   "cell_type": "code",
   "execution_count": 15,
   "metadata": {
    "scrolled": true
   },
   "outputs": [
    {
     "data": {
      "image/png": "[encoded data removed]",
      "text/plain": [
       "<Figure size 432x288 with 1 Axes>"
      ]
     },
     "metadata": {
      "needs_background": "light"
     },
     "output_type": "display_data"
    },
    {
     "name": "stdout",
     "output_type": "stream",
     "text": [
      "1\n"
     ]
    }
   ],
   "source": [
    "plt.imshow(x_test[2].reshape(28, 28), cmap=\"gray\")\n",
    "plt.show()\n",
    "\n",
    "# Returns normalized output for each digit and also uses argmax to return the actual prediction\n",
    "# print(loadedModel.predict(test_img[77:78])\n",
    "np.argmax(new_model.predict(x_test[2:3]))\n",
    "print(np.argmax(new_model.predict(x_test[2:3])))\n"
   ]
  },
  {
   "cell_type": "markdown",
   "metadata": {},
   "source": [
    "## References\n",
    "    \n",
    "    **https://machinelearningmastery.com/keras-functional-api-deep-learning/\n",
    "    \n",
    "    **https://www.tensorflow.org/guide/keras/functional\n",
    "    \n",
    "    **https://keras.io/getting-started/functional-api-guide/\n",
    "    \n",
    "    **https://keras.io/models/about-keras-models/\n",
    "    \n",
    "    **https://www.sitepoint.com/keras-digit-recognition-tutorial/\n",
    "    https://machinelearningmastery.com/rectified-linear-activation-function-for-deep-learning-neural-networks/"
   ]
  }
 ],
 "metadata": {
  "kernelspec": {
   "display_name": "Python 3",
   "language": "python",
   "name": "python3"
  },
  "language_info": {
   "codemirror_mode": {
    "name": "ipython",
    "version": 3
   },
   "file_extension": ".py",
   "mimetype": "text/x-python",
   "name": "python",
   "nbconvert_exporter": "python",
   "pygments_lexer": "ipython3",
   "version": "3.7.5"
  }
 },
 "nbformat": 4,
 "nbformat_minor": 2
}
